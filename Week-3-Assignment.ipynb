{
 "cells": [
  {
   "cell_type": "markdown",
   "metadata": {},
   "source": [
    "## Q1: Now, there is a small homeowrk for statistics wherein you have to read about the parameteres, define them in brief and write about two main types of distributions:"
   ]
  },
  {
   "cell_type": "markdown",
   "metadata": {},
   "source": [
    "#### Math and Statistics are the building blocks of any computational alogrithm. Statistics can be used to derive the meaningful insight from the data by performing mathematical computations on it.\n",
    "\n",
    "Terminologies in statistics:\n",
    "1. Population - set of sources where data can be collect4ed\n",
    "2. Sample - Subset of population\n",
    "3. Variable - data item which represents characteristics or quantitative \n",
    "4. Statistical Parameter - statistical model or population parameter is a quantity  which indexes the family of probability distributions. Example: mean, median etc.\n",
    "\n",
    "Two main Types of Distribution:\n",
    "### Binomial Distribution:\n",
    "\n",
    " Binomial distribution applies when there are only two possible outcomes. It means either success or failure which can be interpret as binary.\n",
    " It can be considered as a mother distribution where other two distributions can be obtained.\n",
    " While normal distribution are continuous and binomial distribution are discrete.\n",
    " If the samples are large enough, then it will be quite similar to normal distribution\n",
    " \n",
    " Example: Occurance of Head in 5 trials of Flipping of coin. In this example, 0 or complement of 0 will be the data for each trial.\n",
    "\n",
    " \n",
    "### Gaussian Distribution:\n",
    " Gaussian distribution can be considered as a special case of Binomial distribution when the number of tries are large.\n",
    " Gaussian distribution applies to large number of variables and it is referred as normal distribution.\n",
    " \n",
    " \n",
    " Binomial distribution describes the probability of occurance of n successes from N numbe of tries of bionary event.\n",
    " Gaussian or normal distribution is an approximation of binomial distribution when N is large.\n",
    " "
   ]
  },
  {
   "cell_type": "markdown",
   "metadata": {},
   "source": [
    "## Q2: Selectively write 5 lines about each of the above three algorithms so that even a rather inexperienced person can understand it alongwith dealing all the technicalities.\n",
    "\n",
    "\n",
    "1. Logistics regression:\n",
    "    Logistic Regression is statistical model which is used for classification problems. It can be applied for either binary classification or multi class classification. This logistic regression is a technique to analyse which has a dependent variable and one or more independent variable. This dependent variable is in categorical in nature ( example yes/no, true/false, 0/1). It is a special case of linear regression. Logistic regression is minimized to 0 to 1 instead of -infinity to +infinity. This curve is called sigmoid curve. The threshold value decides the outcome.\n",
    "\n",
    "\n",
    "2. Decision tree classifier:\n",
    "    Decision tree classifier is a supervised machine learning algorithm which looks like an inverted tree. This decision tree shows the graphical representation of  all the possible solutions. Each node represents the predictor variable. Root node will be start of the decision tree. Leaf node are the final or terminating nodes of the tree. Decision tree can be build using CART or ID3 algorithm. The main thing in decision tree algorithm is to select the best attribute. Selecting best attribute based on entropy and information gain measures.\n",
    "\n",
    "\n",
    "3. Random Forest classifier:\n",
    "    Random Forest Classifier is a supervised classification and regression algorithm. This algorithm builds multiple decision tree and it glues together to get the more accurate and stable prediction. The higher number of forests in the trees, better accuracy ih the prediction result. Eventhough decision tree are convenient, they lack accuracy and it is not flexible.Random forest is based on the idea of bagging, which is used to reduce the variation in predictions by combining the result set of multiple decision trees on deifferent samples of the dataset."
   ]
  }
 ],
 "metadata": {
  "kernelspec": {
   "display_name": "Python 3",
   "language": "python",
   "name": "python3"
  },
  "language_info": {
   "codemirror_mode": {
    "name": "ipython",
    "version": 3
   },
   "file_extension": ".py",
   "mimetype": "text/x-python",
   "name": "python",
   "nbconvert_exporter": "python",
   "pygments_lexer": "ipython3",
   "version": "3.8.2"
  }
 },
 "nbformat": 4,
 "nbformat_minor": 4
}
