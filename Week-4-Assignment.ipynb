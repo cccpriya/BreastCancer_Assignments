{
 "cells": [
  {
   "cell_type": "code",
   "execution_count": 23,
   "metadata": {},
   "outputs": [
    {
     "name": "stdout",
     "output_type": "stream",
     "text": [
      "Accuracy Using Decision Tree Classifier Algorithm: 0.9371\n",
      "\n",
      "Testing accuracy of Decision Tree Classifier=0.9371\n",
      "\n",
      "\n",
      "\n",
      "Accuracy Using Random Forest Classifier Algorithm: 0.9650\n",
      "\n",
      "Testing accuracy of Random Forest Classifier= 0.9650\n"
     ]
    }
   ],
   "source": [
    "##import libraries\n",
    "import numpy as np\n",
    "import pandas as pd\n",
    "import matplotlib.pyplot as plt\n",
    "import seaborn as sns\n",
    "\n",
    "## Read dataset \n",
    "data_read=pd.read_csv(r\"cancer dataset.csv\")\n",
    "import warnings\n",
    "warnings.filterwarnings(\"ignore\")\n",
    "\n",
    "from sklearn.preprocessing import LabelEncoder\n",
    "labelencoder_Y=LabelEncoder()\n",
    "data_read.iloc[:,1]=labelencoder_Y.fit_transform(data_read.iloc[:,1].values)\n",
    "\n",
    "\n",
    "from sklearn.model_selection import train_test_split\n",
    "from sklearn import metrics\n",
    "from sklearn.preprocessing import StandardScaler\n",
    "\n",
    "X=data_read.iloc[:,2:31].values \n",
    "Y=data_read.iloc[:,1].values \n",
    "\n",
    "X_train, X_test, Y_train, Y_test= train_test_split(X,Y, test_size=0.25, random_state=0)\n",
    "\n",
    "sc=StandardScaler()\n",
    "X_train=sc.fit_transform(X_train)\n",
    "X_test=sc.fit_transform(X_test)\n",
    "\n",
    "\n",
    "## Using Decision tree Classifier\n",
    "from sklearn.tree import DecisionTreeClassifier\n",
    "decision_clf = DecisionTreeClassifier(criterion=\"entropy\", max_depth=3)\n",
    "decision_clf.fit(X_train,Y_train)\n",
    "Y_pred = decision_clf.predict(X_test)\n",
    "print(\"Accuracy Using Decision Tree Classifier Algorithm: %0.4f\\n\" %metrics.accuracy_score(Y_test, Y_pred))\n",
    "from sklearn.metrics import confusion_matrix\n",
    "cm = confusion_matrix(Y_test, decision_clf.predict(X_test))\n",
    "\n",
    "##print(cm)\n",
    "\n",
    "TP=cm[0][0]\n",
    "TN=cm[1][1]\n",
    "FN=cm[1][0]\n",
    "FP=cm[0][1]\n",
    "print(\"Testing accuracy of Decision Tree Classifier=%0.4f\" %((TP+TN)/(TP+TN+FN+FP)))\n",
    "\n",
    "print(\"\\n\\n\")\n",
    "#Using Random Forest Classifier\n",
    "from sklearn.ensemble import RandomForestClassifier\n",
    "random_clf=RandomForestClassifier(n_estimators=100)\n",
    "random_clf.fit(X_train,Y_train)\n",
    "Z_pred=random_clf.predict(X_test)\n",
    "\n",
    "print(\"Accuracy Using Random Forest Classifier Algorithm: %0.4f\\n\" %metrics.accuracy_score(Y_test, Z_pred))\n",
    "cm = confusion_matrix(Y_test, random_clf.predict(X_test))\n",
    "##print(cm)\n",
    "\n",
    "TP=cm[0][0]\n",
    "TN=cm[1][1]\n",
    "FN=cm[1][0]\n",
    "FP=cm[0][1]\n",
    "print(\"Testing accuracy of Random Forest Classifier= %0.4f\" %((TP+TN)/(TP+TN+FN+FP)))"
   ]
  }
 ],
 "metadata": {
  "kernelspec": {
   "display_name": "Python 3",
   "language": "python",
   "name": "python3"
  },
  "language_info": {
   "codemirror_mode": {
    "name": "ipython",
    "version": 3
   },
   "file_extension": ".py",
   "mimetype": "text/x-python",
   "name": "python",
   "nbconvert_exporter": "python",
   "pygments_lexer": "ipython3",
   "version": "3.8.2"
  }
 },
 "nbformat": 4,
 "nbformat_minor": 4
}
